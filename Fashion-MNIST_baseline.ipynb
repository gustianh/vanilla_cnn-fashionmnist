{
 "cells": [
  {
   "cell_type": "code",
   "execution_count": 1,
   "metadata": {},
   "outputs": [
    {
     "name": "stderr",
     "output_type": "stream",
     "text": [
      "Using TensorFlow backend.\n"
     ]
    },
    {
     "name": "stdout",
     "output_type": "stream",
     "text": [
      "Train: X=(60000, 28, 28), y=(60000,)\n",
      "Test: X=(10000, 28, 28), y=(10000,)\n"
     ]
    },
    {
     "data": {
      "image/png": "[encoded data removed]",
      "text/plain": [
       "<Figure size 432x288 with 9 Axes>"
      ]
     },
     "metadata": {
      "needs_background": "light"
     },
     "output_type": "display_data"
    }
   ],
   "source": [
    "# loading the fashion mnist dataset\n",
    "from matplotlib import pyplot\n",
    "from keras.datasets import fashion_mnist\n",
    "from numpy import mean\n",
    "from numpy import std\n",
    "from matplotlib import pyplot\n",
    "from sklearn.model_selection import KFold\n",
    "from keras.datasets import fashion_mnist\n",
    "from keras.utils import to_categorical\n",
    "from keras.models import Sequential\n",
    "from keras.layers import Conv2D\n",
    "from keras.layers import MaxPooling2D\n",
    "from keras.layers import Dense\n",
    "from keras.layers import Flatten\n",
    "from keras.optimizers import SGD\n",
    "\n",
    "# load dataset\n",
    "(trainX, trainy), (testX, testy) = fashion_mnist.load_data()\n",
    "# summarize loaded dataset\n",
    "print('Train: X=%s, y=%s' % (trainX.shape, trainy.shape))\n",
    "print('Test: X=%s, y=%s' % (testX.shape, testy.shape))\n",
    "# plot first few images\n",
    "for i in range(9):\n",
    "\t# define subplot\n",
    "\tpyplot.subplot(330 + 1 + i)\n",
    "\t# plot raw pixel data\n",
    "\tpyplot.imshow(trainX[i], cmap=pyplot.get_cmap('gray'))\n",
    "# show the figure\n",
    "pyplot.show()"
   ]
  },
  {
   "cell_type": "markdown",
   "metadata": {},
   "source": [
    "# **Baseline Model**\n",
    "\n",
    "Ini sangat penting karena keduanya melibatkan pengembangan infrastruktur untuk uji harness sehingga setiap model yang di desain dapat dievaluasi pada dataset, dan ini menetapkan dasar dalam kinerja model pada masalah, yang dengannya semua perbaikan dapat dibandingkan.\n",
    "\n",
    "Desain harness uji bersifat modular, dan kami dapat mengembangkan fungsi terpisah untuk masing-masing bagian. Ini memungkinkan aspek tertentu dari harness uji untuk dimodifikasi atau diubah, jika diinginkan, terpisah dari yang lain.\n",
    "\n",
    "Kita dapat mengembangkan alat uji ini dengan lima elemen kunci. Mereka adalah pemuatan dataset, persiapan dataset, definisi model, evaluasi model, dan penyajian hasil."
   ]
  },
  {
   "cell_type": "markdown",
   "metadata": {},
   "source": [
    "## **1. Load Dataset**\n",
    "\n",
    "Data fashion-MNIST adalah data yang berukuran 28x28 pixel dengan warna greyscale. Oleh karena itu kita reshape data array nya untuk mendapatkan single color chanel."
   ]
  },
  {
   "cell_type": "markdown",
   "metadata": {},
   "source": [
    "Menggunakan fungsi `to_categorical()` kita akan mentransform integer ke 10 class binary vektor dengan 1 sebagai nilai index class."
   ]
  },
  {
   "cell_type": "code",
   "execution_count": 4,
   "metadata": {},
   "outputs": [],
   "source": [
    "# load train and test dataset\n",
    "def load_dataset():\n",
    "    # load dataset\n",
    "    (trainX, trainY), (testX, testY) = fashion_mnist.load_data()\n",
    "    # reshape dataset to have a single channel\n",
    "    trainX = trainX.reshape((trainX.shape[0], 28, 28, 1))\n",
    "    testX = testX.reshape((testX.shape[0], 28, 28, 1))\n",
    "    # one hot encode target values\n",
    "    trainY = to_categorical(trainY)\n",
    "    testY = to_categorical(testY)\n",
    "    return trainX, trainY, testX, testY"
   ]
  },
  {
   "cell_type": "markdown",
   "metadata": {},
   "source": [
    "## **2. Prepare Pixel Data**\n",
    "\n",
    "Kita tahu bahwa nilai piksel untuk setiap gambar dalam dataset adalah bilangan bulat yang unsigned dalam rentang antara hitam dan putih, atau 0 dan 255.\n",
    "\n",
    "Kami tidak tahu cara terbaik untuk skala nilai piksel untuk pemodelan, tetapi kami tahu bahwa bahwa scaling akan diperlukan.\n",
    "\n",
    "Titik awal yang baik adalah untuk menormalkan nilai piksel gambar skala abu-abu, mis. rescale ke kisaran [0,1]. Ini melibatkan konversi tipe data dari bilangan bulat unsigned menjadi float, kemudian membagi nilai piksel dengan nilai maksimum."
   ]
  },
  {
   "cell_type": "code",
   "execution_count": 5,
   "metadata": {},
   "outputs": [],
   "source": [
    "# scale pixels\n",
    "def prep_pixels(train, test):\n",
    "    #convert from integers to floats\n",
    "    train_norm = train.astype('float32')\n",
    "    test_norm = test.astype('float32')\n",
    "    # normalize to range 0-1\n",
    "    train_norm = train_norm / 255.0\n",
    "    test_norm = test_norm / 255.0\n",
    "    #return normalized images\n",
    "    return train_norm, test_norm"
   ]
  },
  {
   "cell_type": "markdown",
   "metadata": {},
   "source": [
    "Fungsi diatas harus dipanggil untuk menyiapkan nilai piksel sebelum melakukan pemodelan apapun."
   ]
  },
  {
   "cell_type": "markdown",
   "metadata": {},
   "source": [
    "## **3. Define Model**\n",
    "\n",
    "Selanjutnya, kita perlu mendefinisikan model `CNN` untuk masalah ini.\n",
    "\n",
    "Model ini memiliki dua aspek utama yaitu :\n",
    "1. **the feature extraction front end comprised of convolutional and pooling layers** - front end feature extraction dari konvolusional dan pooling layers.\n",
    "2. **the classifier backend that will make a prediction** - classifier backend yang akan membuat prediksi\n",
    "\n",
    "Untuk `front-end` konvolusional, kita dapat mulai dengan `single convolutional layer` dengan ukuran filter kecil yaitu (3,3) dan sejumlah kecil filter (32) diikuti oleh `max pooling layers`. Peta filter kemudian dapat diratakan untuk memberikan fitur ke classifier.\n",
    "\n",
    "Mengingat bahwa masalahnya adalah klasifikasi multi-kelas, kita tahu bahwa kita akan memerlukan lapisan output dengan 10 node untuk memprediksi distribusi probabilitas suatu gambar milik masing-masing dari 10 kelas. Ini juga akan memerlukan penggunaan fungsi `softmax activation`. Antara fitur extractor dan layer output, kita bisa menambahkan `dense layer` untuk menginterpretasikan fitur, dalam hal ini kita menggunakan 100 node.\n",
    "\n",
    "Semua layer akan menggunakan `ReLU` dan `HE Weights` untuk skema inisialisasinya, kedua algoritma ini adalah yang terbaik dalam hal ini.\n",
    "\n",
    "Kita akan menggunakan konfigurasi konservatif untuk `stochastic gradient descent optimizer` dengan tingkat pembelajaran atau learning rate sebesar 0,01 dan momentum sebesar 0,9. `The categorical cross-entropy loss function` akan dioptimalkan, cocok untuk klasifikasi multi-kelas, dan kita akan memantau metrik akurasi klasifikasi, yang sesuai mengingat kami memiliki jumlah contoh yang sama di masing-masing dari 10 kelas."
   ]
  },
  {
   "cell_type": "code",
   "execution_count": 6,
   "metadata": {},
   "outputs": [],
   "source": [
    "# define cnn model\n",
    "def define_model():\n",
    "    model = Sequential()\n",
    "    model.add(Conv2D(32, (3, 3), activation='relu', kernel_initializer='he_uniform', input_shape=(28, 28, 1)))\n",
    "    model.add(MaxPooling2D((2, 2)))\n",
    "    model.add(Flatten())\n",
    "    model.add(Dense(100, activation='relu', kernel_initializer='he_uniform'))\n",
    "    model.add(Dense(10, activation='softmax'))\n",
    "    #compile model\n",
    "    opt = SGD(lr=0.01, momentum=0.9)\n",
    "    model.compile(optimizer=opt, loss='categorical_crossentropy', metrics=['accuracy'])\n",
    "    return model"
   ]
  },
  {
   "cell_type": "markdown",
   "metadata": {},
   "source": [
    "## **4. Evaluate Model**\n",
    "\n",
    "Setelah model di buat kita perlu mengevaluasi model kita. Model ini akan di evaluasi dengan 5-Fold cross validation. Nilai dari k=5 ini dipilih untuk menyediakan model dasar untuk kedua pengulangan evaluasi dan tidak terlalu besar dan tak memakan waktu. Setiap test set disetel pada 20% training dataset atau sekitar 20.000 contoh gambar, untuk masalah ini mendekati dengan tes set. \n",
    "\n",
    "Dataset pelatihan diacak sebelum dipisah dan pengacakan sampel dilakukan setiap kali sehingga model apa pun yang dievaluasi akan memiliki rangkaian data latih dan uji yang sama di setiap layer, ini memberikan perbandingan 1 : 1.\n",
    "\n",
    "Kita akan melatih model dasar untuk 10 epoch pelatihan sederhana dengan ukuran batch standar sebanyak 32 contoh. Set tes untuk setiap layer akan digunakan untuk mengevaluasi model baik selama setiap epoch itu pelatihan dijalankan, sehingga kita nantinya dapat membuat learning curves, dan pada proses terakhir, sehingga kita dapat memperkirakan kinerja model. Dengan demikian, kitaakan melacak riwayat yang dihasilkan dari setiap proses, serta akurasi klasifikasi dari fold itu.\n",
    "\n",
    "Fungsi `evaluate_model()` di bawah ini mengimplementasikan perilaku-perilaku ini, menggunakan dataset pelatihan sebagai argumen dan mengembalikan daftar skor akurasi dan riwayat pelatihan yang dapat diringkas kemudian.\n"
   ]
  },
  {
   "cell_type": "code",
   "execution_count": 7,
   "metadata": {},
   "outputs": [],
   "source": [
    "# evaluate a model using k-fold cross-validation\n",
    "def evaluate_model(dataX, dataY, n_folds=5):\n",
    "    scores, histories = list(), list()\n",
    "    # prepare cross validation\n",
    "    kfold = KFold(n_folds, shuffle=True, random_state=1)\n",
    "    # enumerate splits\n",
    "    for train_ix, test_ix in kfold.split(dataX):\n",
    "        # define model\n",
    "        model = define_model()\n",
    "        # select rows for train and test\n",
    "        trainX, trainY, testX, testY = dataX[train_ix], dataY[train_ix], dataX[test_ix], dataY[test_ix]\n",
    "        # fit model\n",
    "        history = model.fit(trainX, trainY, epochs=10, batch_size=32, validation_data=(testX, testY), verbose=0)\n",
    "        # evaluate model\n",
    "        _, acc = model.evaluate(testX, testY, verbose=0)\n",
    "        print('> %.3f' % (acc * 100.0))\n",
    "        # append scores\n",
    "        scores.append(acc)\n",
    "        histories.append(history)\n",
    "    return scores, histories"
   ]
  },
  {
   "cell_type": "markdown",
   "metadata": {},
   "source": [
    "# **5. Present Result**\n",
    "\n",
    "Setelah model dibuat dan dievaluasi kita akan melihat hasilnya. Ada 2 aspek yang akan dilihat yaitu :\n",
    "1. Diagnosa learning behaviour dari model saat training\n",
    "2. Estimasi dari performa model\n",
    "keduanya bisa di implementasikan menggunakan fungsi terpisah. \n",
    "\n",
    "Pertama, diagnostic melibatkan pembuatan line plot yang menampilkan training dan test set saat fold dari cross-validation fold. Plot ini sangat berharga untuk mengerti apakah model kita `overfittig`, `underfitting`, atau punya `good-fit` untuk dataset tersebut.\n",
    "\n",
    "Kita akan membuat single-figure dengan 2 subplot :\n",
    "1. Akurasi\n",
    "2. loss\n",
    "\n",
    "Garis biru akan mengindikasikan performa model di training dataset dan garis oranye akan menunjukkan kinerja dari hold-out test. Fungsi `summarize_diagnostic()` dibawah ini akan membuat dan menunjukkan plot history training yang dikumpulkan"
   ]
  },
  {
   "cell_type": "code",
   "execution_count": 8,
   "metadata": {},
   "outputs": [],
   "source": [
    "# plot diagnostic learning curves\n",
    "def summarize_diagnostics(histories):\n",
    "    for i in range(len(histories)):\n",
    "        # plot loss\n",
    "        pyplot.subplot(211)\n",
    "        pyplot.title('Cross Entropy Loss')\n",
    "        pyplot.plot(histories[i].history['loss'], color='blue', label='train')\n",
    "        pyplot.plot(histories[i].history['val_loss'], color='orange', label='test')\n",
    "        # plot accuracy\n",
    "        pyplot.subplot(212)\n",
    "        pyplot.title('Classification Accuracy')\n",
    "        pyplot.plot(histories[i].history['accuracy'], color='blue', label='train')\n",
    "        pyplot.plot(histories[i].history['val_accuracy'], color='orange', label='test')\n",
    "    pyplot.show()"
   ]
  },
  {
   "cell_type": "code",
   "execution_count": 9,
   "metadata": {},
   "outputs": [],
   "source": [
    "# summarize model performance\n",
    "def summarize_performance(scores):\n",
    "    # print summary\n",
    "    print('Accuracy: mean=%.3f std=%.3f, n=%d' % (mean(scores)*100, std(scores)*100, len(scores)))\n",
    "    # box and whisker plots of results\n",
    "    pyplot.boxplot(scores)\n",
    "    pyplot.show()"
   ]
  },
  {
   "cell_type": "code",
   "execution_count": 11,
   "metadata": {},
   "outputs": [
    {
     "name": "stdout",
     "output_type": "stream",
     "text": [
      "> 91.017\n",
      "> 91.475\n",
      "> 90.567\n",
      "> 90.975\n",
      "> 90.875\n"
     ]
    },
    {
     "name": "stderr",
     "output_type": "stream",
     "text": [
      "C:\\Users\\Gustian\\AppData\\Local\\Continuum\\anaconda3\\lib\\site-packages\\ipykernel_launcher.py:5: MatplotlibDeprecationWarning: Adding an axes using the same arguments as a previous axes currently reuses the earlier instance.  In a future version, a new instance will always be created and returned.  Meanwhile, this warning can be suppressed, and the future behavior ensured, by passing a unique label to each axes instance.\n",
      "  \"\"\"\n",
      "C:\\Users\\Gustian\\AppData\\Local\\Continuum\\anaconda3\\lib\\site-packages\\ipykernel_launcher.py:10: MatplotlibDeprecationWarning: Adding an axes using the same arguments as a previous axes currently reuses the earlier instance.  In a future version, a new instance will always be created and returned.  Meanwhile, this warning can be suppressed, and the future behavior ensured, by passing a unique label to each axes instance.\n",
      "  # Remove the CWD from sys.path while we load stuff.\n",
      "C:\\Users\\Gustian\\AppData\\Local\\Continuum\\anaconda3\\lib\\site-packages\\ipykernel_launcher.py:5: MatplotlibDeprecationWarning: Adding an axes using the same arguments as a previous axes currently reuses the earlier instance.  In a future version, a new instance will always be created and returned.  Meanwhile, this warning can be suppressed, and the future behavior ensured, by passing a unique label to each axes instance.\n",
      "  \"\"\"\n",
      "C:\\Users\\Gustian\\AppData\\Local\\Continuum\\anaconda3\\lib\\site-packages\\ipykernel_launcher.py:10: MatplotlibDeprecationWarning: Adding an axes using the same arguments as a previous axes currently reuses the earlier instance.  In a future version, a new instance will always be created and returned.  Meanwhile, this warning can be suppressed, and the future behavior ensured, by passing a unique label to each axes instance.\n",
      "  # Remove the CWD from sys.path while we load stuff.\n",
      "C:\\Users\\Gustian\\AppData\\Local\\Continuum\\anaconda3\\lib\\site-packages\\ipykernel_launcher.py:5: MatplotlibDeprecationWarning: Adding an axes using the same arguments as a previous axes currently reuses the earlier instance.  In a future version, a new instance will always be created and returned.  Meanwhile, this warning can be suppressed, and the future behavior ensured, by passing a unique label to each axes instance.\n",
      "  \"\"\"\n",
      "C:\\Users\\Gustian\\AppData\\Local\\Continuum\\anaconda3\\lib\\site-packages\\ipykernel_launcher.py:10: MatplotlibDeprecationWarning: Adding an axes using the same arguments as a previous axes currently reuses the earlier instance.  In a future version, a new instance will always be created and returned.  Meanwhile, this warning can be suppressed, and the future behavior ensured, by passing a unique label to each axes instance.\n",
      "  # Remove the CWD from sys.path while we load stuff.\n",
      "C:\\Users\\Gustian\\AppData\\Local\\Continuum\\anaconda3\\lib\\site-packages\\ipykernel_launcher.py:5: MatplotlibDeprecationWarning: Adding an axes using the same arguments as a previous axes currently reuses the earlier instance.  In a future version, a new instance will always be created and returned.  Meanwhile, this warning can be suppressed, and the future behavior ensured, by passing a unique label to each axes instance.\n",
      "  \"\"\"\n",
      "C:\\Users\\Gustian\\AppData\\Local\\Continuum\\anaconda3\\lib\\site-packages\\ipykernel_launcher.py:10: MatplotlibDeprecationWarning: Adding an axes using the same arguments as a previous axes currently reuses the earlier instance.  In a future version, a new instance will always be created and returned.  Meanwhile, this warning can be suppressed, and the future behavior ensured, by passing a unique label to each axes instance.\n",
      "  # Remove the CWD from sys.path while we load stuff.\n"
     ]
    },
    {
     "data": {
      "image/png": "[encoded data removed]",
      "text/plain": [
       "<Figure size 432x288 with 2 Axes>"
      ]
     },
     "metadata": {
      "needs_background": "light"
     },
     "output_type": "display_data"
    },
    {
     "name": "stdout",
     "output_type": "stream",
     "text": [
      "Accuracy: mean=90.982 std=0.293, n=5\n"
     ]
    },
    {
     "data": {
      "image/png": "[encoded data removed]",
      "text/plain": [
       "<Figure size 432x288 with 1 Axes>"
      ]
     },
     "metadata": {
      "needs_background": "light"
     },
     "output_type": "display_data"
    }
   ],
   "source": [
    "# run the test harness for evaluating a model\n",
    "def run_test_harness():\n",
    "    # load dataset\n",
    "    trainX, trainY, testX, testY = load_dataset()\n",
    "    # prepare pixel data\n",
    "    trainX, testX = prep_pixels(trainX, testX)\n",
    "    # evaluate model\n",
    "    scores, histories = evaluate_model(trainX, trainY)\n",
    "    # learning curves\n",
    "    summarize_diagnostics(histories)\n",
    "    # summarize estimated performance\n",
    "    summarize_performance(scores)\n",
    "    \n",
    "# entry point, run the test harness\n",
    "run_test_harness()"
   ]
  },
  {
   "cell_type": "markdown",
   "metadata": {},
   "source": [
    "Dalam hal ini, kita dapat melihat bahwa model umumnya mencapai kecocokan yang baik, dengan konvergensi kurva test dan train. Mungkin ada beberapa tanda sedikit overfitting.\n",
    "\n",
    "Akhirnya, sebuah box dan whisker plot telah dibuat untuk menyederhhanakan distribusi dari skor akurasi. \n",
    "\n",
    "Sekarang kita punya sebuah test harness yang kuat dan model baseline yang baik."
   ]
  }
 ],
 "metadata": {
  "kernelspec": {
   "display_name": "Python 3",
   "language": "python",
   "name": "python3"
  },
  "language_info": {
   "codemirror_mode": {
    "name": "ipython",
    "version": 3
   },
   "file_extension": ".py",
   "mimetype": "text/x-python",
   "name": "python",
   "nbconvert_exporter": "python",
   "pygments_lexer": "ipython3",
   "version": "3.7.6"
  }
 },
 "nbformat": 4,
 "nbformat_minor": 4
}
